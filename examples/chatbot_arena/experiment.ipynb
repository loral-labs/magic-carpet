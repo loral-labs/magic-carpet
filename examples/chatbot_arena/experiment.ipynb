{
 "cells": [
  {
   "cell_type": "markdown",
   "metadata": {},
   "source": [
    "# Chatbot Arena Routing\n",
    "[Chatbot Arena Conversation Dataset](https://lmsys.org/blog/2023-07-20-dataset/]) is a dataset collected by LMSYS Org. It consists of 33K rows of battles between two LLMs as well as a judge's decision on which model performs better. We are going to use magic-carpet to spin up a few model routers to try and tackle this task."
   ]
  },
  {
   "cell_type": "code",
   "execution_count": 2,
   "metadata": {},
   "outputs": [
    {
     "data": {
      "text/plain": [
       "True"
      ]
     },
     "execution_count": 2,
     "metadata": {},
     "output_type": "execute_result"
    }
   ],
   "source": [
    "import os \n",
    "from dotenv import load_dotenv\n",
    "from collections import defaultdict\n",
    "import json, math\n",
    "import numpy as np\n",
    "import pandas as pd\n",
    "from tqdm import tqdm\n",
    "import plotly.express as px\n",
    "from typing import Callable\n",
    "from datasets import load_dataset\n",
    "import faiss\n",
    "from openai import OpenAI\n",
    "from magic_carpet.routers.router import NamedRouter\n",
    "\n",
    "load_dotenv()"
   ]
  },
  {
   "cell_type": "code",
   "execution_count": 34,
   "metadata": {},
   "outputs": [
    {
     "data": {
      "text/plain": [
       "(33000, 13)"
      ]
     },
     "execution_count": 34,
     "metadata": {},
     "output_type": "execute_result"
    }
   ],
   "source": [
    "DATASET_NAME = \"lmsys/chatbot_arena_conversations\"\n",
    "if not os.path.exists(\"dataset.json\"):\n",
    "    print(\"Loading dataset ...\")\n",
    "    dataset = load_dataset(DATASET_NAME)\n",
    "    dataset[\"train\"].to_json(\"dataset.json\")\n",
    "df = pd.read_json(\"dataset.json\", lines=True).sort_values(ascending=True, by=[\"tstamp\"])\n",
    "df.shape"
   ]
  },
  {
   "cell_type": "code",
   "execution_count": 4,
   "metadata": {},
   "outputs": [
    {
     "data": {
      "text/plain": [
       "(7284, 13)"
      ]
     },
     "execution_count": 4,
     "metadata": {},
     "output_type": "execute_result"
    }
   ],
   "source": [
    "# model_names = list(set(df.model_a.unique().tolist() + df.model_b.unique().tolist()))\n",
    "model_names = ['gpt-4', 'gpt-3.5-turbo', 'claude-v1', 'palm-2', 'vicuna-13b', 'koala-13b', 'llama-13b', 'alpaca-13b']\n",
    "df = df[df.language == \"English\"]\n",
    "df = df[df.model_a.isin(model_names) & df.model_b.isin(model_names)]\n",
    "df.shape"
   ]
  },
  {
   "cell_type": "code",
   "execution_count": 5,
   "metadata": {},
   "outputs": [
    {
     "data": {
      "text/plain": [
       "(winner\n",
       " model_a          2679\n",
       " model_b          2598\n",
       " tie              1100\n",
       " tie (bothbad)     907\n",
       " Name: count, dtype: int64,\n",
       " winner\n",
       " model_a    2679\n",
       " model_b    2598\n",
       " Name: count, dtype: int64)"
      ]
     },
     "execution_count": 5,
     "metadata": {},
     "output_type": "execute_result"
    }
   ],
   "source": [
    "def no_ties(df):\n",
    "    return df[df.winner.str.contains(\"tie\") == False]\n",
    "df.winner.value_counts(), no_ties(df).winner.value_counts()"
   ]
  },
  {
   "cell_type": "code",
   "execution_count": 6,
   "metadata": {},
   "outputs": [
    {
     "data": {
      "image/png": "[encoded data removed]",
      "text/plain": [
       "<Figure size 640x480 with 1 Axes>"
      ]
     },
     "metadata": {},
     "output_type": "display_data"
    }
   ],
   "source": [
    "model_a_counts = df.model_a.value_counts()\n",
    "model_b_counts = df.model_b.value_counts()\n",
    "_ = (model_a_counts + model_b_counts).sort_values(ascending=False).plot.bar()"
   ]
  },
  {
   "cell_type": "code",
   "execution_count": 7,
   "metadata": {},
   "outputs": [
    {
     "name": "stdout",
     "output_type": "stream",
     "text": [
      "Saving shuffled indices ...\n"
     ]
    },
    {
     "data": {
      "text/plain": [
       "((7134, 13), (150, 13))"
      ]
     },
     "execution_count": 7,
     "metadata": {},
     "output_type": "execute_result"
    }
   ],
   "source": [
    "# randomly shuffle rows of df \n",
    "df = df.sample(frac=1, random_state=100)\n",
    "\n",
    "try:\n",
    "    with open(\"shuffled_indices.json\", \"r\") as f:\n",
    "        df_random_shuffle = json.load(f)\n",
    "    assert df_random_shuffle == df.index[:100].tolist()\n",
    "except:\n",
    "    print(\"Saving shuffled indices ...\")\n",
    "    with open(\"shuffled_indices.json\", \"w\") as f:\n",
    "        json.dump(df.index[:100].tolist(), f)\n",
    "\n",
    "\n",
    "df = df.reset_index(drop=True)\n",
    "# test_size = int(len(df)*0.3)\n",
    "test_size = 150\n",
    "train_df, test_df = df.iloc[:-test_size].copy(), df.iloc[-test_size:].copy()\n",
    "train_df.shape, test_df.shape"
   ]
  },
  {
   "cell_type": "code",
   "execution_count": 8,
   "metadata": {},
   "outputs": [
    {
     "data": {
      "text/plain": [
       "({'name': 'gpt-4',\n",
       "  'description': 'Extract the response from the conversation',\n",
       "  'function': <function __main__.get_response(messages)>},\n",
       " 'What is a good mesage to put in an initial pull request on github',\n",
       " \"When submitting an initial pull request on Github, it's important to be clear and concise about what you're trying to do, and to include any relevant information and context. Here are a few tips for crafting a good pull request message:\\n\\n1.   Introduce yourself and explain what you're doing: Start by introducing yourself and providing some context about why you're submitting a pull request. This will help the maintainers of the repository understand your motives and make it easier for them to evaluate your request.\\n2.   Describe the changes you're proposing: Make sure to describe the changes you're proposing in detail, including any relevant context or background information. It's also a good idea to include any reasons why these changes are important or beneficial.\\n3.   Provide a link to the relevant code: If you're proposing changes to the code, it's important to provide a link to the relevant files. This will make it easier for maintainers to review your request and understand what changes you're proposing.\\n4.   Address any concerns or issues: Be sure to address any potential concerns or issues that maintainers may have with your proposal. This will help to demonstrate that you've thought through potential problems and are willing to make changes as needed.\\n5.   Ask for feedback and make it easy to get in touch: Finally, be sure to ask for feedback and make it easy for maintainers to get in touch with you if they have any questions or concerns. This will help to build trust and ensure that your pull request is reviewed thoroughly and thoughtfully.\")"
      ]
     },
     "execution_count": 8,
     "metadata": {},
     "output_type": "execute_result"
    }
   ],
   "source": [
    "def get_input(messages):\n",
    "    for msg in messages:\n",
    "        if msg['role'] == 'user':\n",
    "            return msg['content']\n",
    "        \n",
    "def get_response(messages):\n",
    "    for msg in messages:\n",
    "        if msg['role'] == 'assistant':\n",
    "            return msg['content']\n",
    "\n",
    "models = [\n",
    "    {\n",
    "        \"name\": model_name, \n",
    "        \"description\": \"Extract the response from the conversation\",\n",
    "        \"function\": get_response,\n",
    "    } for model_name in model_names\n",
    "]\n",
    "models[0], get_input(messages=train_df.conversation_a[0]), models[0][\"function\"](messages=train_df.conversation_a[0])"
   ]
  },
  {
   "cell_type": "code",
   "execution_count": 9,
   "metadata": {},
   "outputs": [],
   "source": [
    "tqdm.pandas()\n",
    "def router_score(df, router, row_keys, allow_ties=False, verbose=False):\n",
    "    df = no_ties(df) if not allow_ties else df\n",
    "    def row_score(row):\n",
    "        metadata = router(**dict(row[row_keys]), metadata_only=True)\n",
    "        # print(f\"MODELS: {row.model_a}, {row.model_b}\\n\\nREASONING:\\n\\n{metadata.get('llm_response')}\\n\\nWINNER: {row.winner}\")\n",
    "        return int(metadata[\"winner\"] == row.winner)\n",
    "    if verbose:\n",
    "        return df.progress_apply(row_score, axis=1).mean()\n",
    "    return df.apply(row_score, axis=1).mean()"
   ]
  },
  {
   "cell_type": "markdown",
   "metadata": {},
   "source": [
    "## Perfect Arena Router"
   ]
  },
  {
   "cell_type": "code",
   "execution_count": 10,
   "metadata": {},
   "outputs": [
    {
     "data": {
      "text/plain": [
       "'PerfectArenaRouter([gpt-4, gpt-3.5-turbo, claude-v1, palm-2, vicuna-13b, koala-13b, llama-13b, alpaca-13b])'"
      ]
     },
     "execution_count": 10,
     "metadata": {},
     "output_type": "execute_result"
    }
   ],
   "source": [
    "WINNER_OPTIONS = df.winner.unique().tolist()\n",
    "\n",
    "class PerfectArenaRouter(NamedRouter):\n",
    "    def route(self, model_a, model_b, conversation_a, conversation_b, winner='model_a', winner_options=WINNER_OPTIONS):\n",
    "        choices = {\n",
    "            'model_a': (model_a, conversation_a),\n",
    "            'model_b': (model_b, conversation_b),\n",
    "        }\n",
    "        if winner not in winner_options:\n",
    "            raise ValueError(f\"Winner must be one of {winner_options}\")\n",
    "        if winner.startswith(\"tie\"):\n",
    "            winner = \"model_a\"\n",
    "        model_name, messages = choices[winner]\n",
    "        return self.models[model_name], {\"winner\": winner, \"exec_kwargs\": {\"messages\": messages}}\n",
    "    \n",
    "perfect_router = PerfectArenaRouter(models)\n",
    "str(perfect_router)"
   ]
  },
  {
   "cell_type": "code",
   "execution_count": 11,
   "metadata": {},
   "outputs": [
    {
     "name": "stdout",
     "output_type": "stream",
     "text": [
      "Example of what router info looks like ...\n",
      "NAME: PerfectArenaRouter([gpt-4, gpt-3.5-turbo, claude-v1, palm-2, vicuna-13b, koala-13b, llama-13b, alpaca-13b])\n",
      "DESCRIPTION: Router for 8 models listed below\n",
      "[\n",
      "\t(0) gpt-4: Extract the response from the conversation,\n",
      "\t(1) gpt-3.5-turbo: Extract the response from the conversation,\n",
      "\t(2) claude-v1: Extract the response from the conversation,\n",
      "\t(3) palm-2: Extract the response from the conversation,\n",
      "\t(4) vicuna-13b: Extract the response from the conversation,\n",
      "\t(5) koala-13b: Extract the response from the conversation,\n",
      "\t(6) llama-13b: Extract the response from the conversation,\n",
      "\t(7) alpaca-13b: Extract the response from the conversation\n",
      "]\n"
     ]
    }
   ],
   "source": [
    "print(\"Example of what router info looks like ...\")\n",
    "print(perfect_router.info())"
   ]
  },
  {
   "cell_type": "code",
   "execution_count": 12,
   "metadata": {},
   "outputs": [
    {
     "name": "stderr",
     "output_type": "stream",
     "text": [
      "100%|██████████| 119/119 [00:00<00:00, 1967.59it/s]\n"
     ]
    },
    {
     "data": {
      "text/plain": [
       "'Perfect Router Accuracy: 1.0000'"
      ]
     },
     "execution_count": 12,
     "metadata": {},
     "output_type": "execute_result"
    }
   ],
   "source": [
    "score = router_score(test_df, perfect_router, [\"model_a\", \"model_b\", \"conversation_a\", \"conversation_b\", \"winner\"], verbose=True)\n",
    "f\"Perfect Router Accuracy: {score:.4f}\""
   ]
  },
  {
   "cell_type": "markdown",
   "metadata": {},
   "source": [
    "## Ratings-based Arena Router"
   ]
  },
  {
   "cell_type": "code",
   "execution_count": 13,
   "metadata": {},
   "outputs": [
    {
     "data": {
      "application/vnd.plotly.v1+json": {
       "config": {
        "plotlyServerURL": "https://plot.ly"
       },
       "data": [
        {
         "coloraxis": "coloraxis",
         "hovertemplate": "Model A: %{y}<br>Model B: %{x}<br>Fraction of A Wins: %{z}<extra></extra>",
         "name": "0",
         "texttemplate": "%{z:.2f}",
         "type": "heatmap",
         "x": [
          "gpt-4",
          "claude-v1",
          "gpt-3.5-turbo",
          "palm-2",
          "vicuna-13b",
          "koala-13b",
          "alpaca-13b",
          "llama-13b"
         ],
         "xaxis": "x",
         "y": [
          "gpt-4",
          "claude-v1",
          "gpt-3.5-turbo",
          "palm-2",
          "vicuna-13b",
          "koala-13b",
          "alpaca-13b",
          "llama-13b"
         ],
         "yaxis": "y",
         "z": [
          [
           null,
           0.553763440860215,
           0.8010204081632653,
           0.7862595419847328,
           0.8808510638297873,
           0.8617886178861789,
           0.94,
           0.9726027397260274
          ],
          [
           0.44623655913978494,
           null,
           0.6,
           0.704,
           0.7860696517412935,
           0.7836538461538461,
           0.8909090909090909,
           0.9841269841269841
          ],
          [
           0.1989795918367347,
           0.4,
           null,
           0.5724137931034483,
           0.6090534979423868,
           0.7318840579710145,
           0.8755364806866953,
           0.9270833333333334
          ],
          [
           0.21374045801526717,
           0.296,
           0.42758620689655175,
           null,
           0.592,
           0.6923076923076923,
           0.7647058823529411,
           0.9230769230769231
          ],
          [
           0.11914893617021277,
           0.21393034825870647,
           0.39094650205761317,
           0.408,
           null,
           0.6330472103004292,
           0.7792642140468228,
           0.8725490196078431
          ],
          [
           0.13821138211382114,
           0.21634615384615385,
           0.26811594202898553,
           0.3076923076923077,
           0.3669527896995708,
           null,
           0.6902985074626866,
           0.8380281690140845
          ],
          [
           0.06,
           0.10909090909090909,
           0.12446351931330472,
           0.23529411764705882,
           0.22073578595317725,
           0.30970149253731344,
           null,
           0.7719298245614035
          ],
          [
           0.0273972602739726,
           0.015873015873015872,
           0.07291666666666667,
           0.07692307692307693,
           0.12745098039215685,
           0.1619718309859155,
           0.22807017543859648,
           null
          ]
         ]
        }
       ],
       "layout": {
        "coloraxis": {
         "colorscale": [
          [
           0,
           "rgb(103,0,31)"
          ],
          [
           0.1,
           "rgb(178,24,43)"
          ],
          [
           0.2,
           "rgb(214,96,77)"
          ],
          [
           0.3,
           "rgb(244,165,130)"
          ],
          [
           0.4,
           "rgb(253,219,199)"
          ],
          [
           0.5,
           "rgb(247,247,247)"
          ],
          [
           0.6,
           "rgb(209,229,240)"
          ],
          [
           0.7,
           "rgb(146,197,222)"
          ],
          [
           0.8,
           "rgb(67,147,195)"
          ],
          [
           0.9,
           "rgb(33,102,172)"
          ],
          [
           1,
           "rgb(5,48,97)"
          ]
         ]
        },
        "height": 600,
        "template": {
         "data": {
          "bar": [
           {
            "error_x": {
             "color": "#2a3f5f"
            },
            "error_y": {
             "color": "#2a3f5f"
            },
            "marker": {
             "line": {
              "color": "#E5ECF6",
              "width": 0.5
             },
             "pattern": {
              "fillmode": "overlay",
              "size": 10,
              "solidity": 0.2
             }
            },
            "type": "bar"
           }
          ],
          "barpolar": [
           {
            "marker": {
             "line": {
              "color": "#E5ECF6",
              "width": 0.5
             },
             "pattern": {
              "fillmode": "overlay",
              "size": 10,
              "solidity": 0.2
             }
            },
            "type": "barpolar"
           }
          ],
          "carpet": [
           {
            "aaxis": {
             "endlinecolor": "#2a3f5f",
             "gridcolor": "white",
             "linecolor": "white",
             "minorgridcolor": "white",
             "startlinecolor": "#2a3f5f"
            },
            "baxis": {
             "endlinecolor": "#2a3f5f",
             "gridcolor": "white",
             "linecolor": "white",
             "minorgridcolor": "white",
             "startlinecolor": "#2a3f5f"
            },
            "type": "carpet"
           }
          ],
          "choropleth": [
           {
            "colorbar": {
             "outlinewidth": 0,
             "ticks": ""
            },
            "type": "choropleth"
           }
          ],
          "contour": [
           {
            "colorbar": {
             "outlinewidth": 0,
             "ticks": ""
            },
            "colorscale": [
             [
              0,
              "#0d0887"
             ],
             [
              0.1111111111111111,
              "#46039f"
             ],
             [
              0.2222222222222222,
              "#7201a8"
             ],
             [
              0.3333333333333333,
              "#9c179e"
             ],
             [
              0.4444444444444444,
              "#bd3786"
             ],
             [
              0.5555555555555556,
              "#d8576b"
             ],
             [
              0.6666666666666666,
              "#ed7953"
             ],
             [
              0.7777777777777778,
              "#fb9f3a"
             ],
             [
              0.8888888888888888,
              "#fdca26"
             ],
             [
              1,
              "#f0f921"
             ]
            ],
            "type": "contour"
           }
          ],
          "contourcarpet": [
           {
            "colorbar": {
             "outlinewidth": 0,
             "ticks": ""
            },
            "type": "contourcarpet"
           }
          ],
          "heatmap": [
           {
            "colorbar": {
             "outlinewidth": 0,
             "ticks": ""
            },
            "colorscale": [
             [
              0,
              "#0d0887"
             ],
             [
              0.1111111111111111,
              "#46039f"
             ],
             [
              0.2222222222222222,
              "#7201a8"
             ],
             [
              0.3333333333333333,
              "#9c179e"
             ],
             [
              0.4444444444444444,
              "#bd3786"
             ],
             [
              0.5555555555555556,
              "#d8576b"
             ],
             [
              0.6666666666666666,
              "#ed7953"
             ],
             [
              0.7777777777777778,
              "#fb9f3a"
             ],
             [
              0.8888888888888888,
              "#fdca26"
             ],
             [
              1,
              "#f0f921"
             ]
            ],
            "type": "heatmap"
           }
          ],
          "heatmapgl": [
           {
            "colorbar": {
             "outlinewidth": 0,
             "ticks": ""
            },
            "colorscale": [
             [
              0,
              "#0d0887"
             ],
             [
              0.1111111111111111,
              "#46039f"
             ],
             [
              0.2222222222222222,
              "#7201a8"
             ],
             [
              0.3333333333333333,
              "#9c179e"
             ],
             [
              0.4444444444444444,
              "#bd3786"
             ],
             [
              0.5555555555555556,
              "#d8576b"
             ],
             [
              0.6666666666666666,
              "#ed7953"
             ],
             [
              0.7777777777777778,
              "#fb9f3a"
             ],
             [
              0.8888888888888888,
              "#fdca26"
             ],
             [
              1,
              "#f0f921"
             ]
            ],
            "type": "heatmapgl"
           }
          ],
          "histogram": [
           {
            "marker": {
             "pattern": {
              "fillmode": "overlay",
              "size": 10,
              "solidity": 0.2
             }
            },
            "type": "histogram"
           }
          ],
          "histogram2d": [
           {
            "colorbar": {
             "outlinewidth": 0,
             "ticks": ""
            },
            "colorscale": [
             [
              0,
              "#0d0887"
             ],
             [
              0.1111111111111111,
              "#46039f"
             ],
             [
              0.2222222222222222,
              "#7201a8"
             ],
             [
              0.3333333333333333,
              "#9c179e"
             ],
             [
              0.4444444444444444,
              "#bd3786"
             ],
             [
              0.5555555555555556,
              "#d8576b"
             ],
             [
              0.6666666666666666,
              "#ed7953"
             ],
             [
              0.7777777777777778,
              "#fb9f3a"
             ],
             [
              0.8888888888888888,
              "#fdca26"
             ],
             [
              1,
              "#f0f921"
             ]
            ],
            "type": "histogram2d"
           }
          ],
          "histogram2dcontour": [
           {
            "colorbar": {
             "outlinewidth": 0,
             "ticks": ""
            },
            "colorscale": [
             [
              0,
              "#0d0887"
             ],
             [
              0.1111111111111111,
              "#46039f"
             ],
             [
              0.2222222222222222,
              "#7201a8"
             ],
             [
              0.3333333333333333,
              "#9c179e"
             ],
             [
              0.4444444444444444,
              "#bd3786"
             ],
             [
              0.5555555555555556,
              "#d8576b"
             ],
             [
              0.6666666666666666,
              "#ed7953"
             ],
             [
              0.7777777777777778,
              "#fb9f3a"
             ],
             [
              0.8888888888888888,
              "#fdca26"
             ],
             [
              1,
              "#f0f921"
             ]
            ],
            "type": "histogram2dcontour"
           }
          ],
          "mesh3d": [
           {
            "colorbar": {
             "outlinewidth": 0,
             "ticks": ""
            },
            "type": "mesh3d"
           }
          ],
          "parcoords": [
           {
            "line": {
             "colorbar": {
              "outlinewidth": 0,
              "ticks": ""
             }
            },
            "type": "parcoords"
           }
          ],
          "pie": [
           {
            "automargin": true,
            "type": "pie"
           }
          ],
          "scatter": [
           {
            "fillpattern": {
             "fillmode": "overlay",
             "size": 10,
             "solidity": 0.2
            },
            "type": "scatter"
           }
          ],
          "scatter3d": [
           {
            "line": {
             "colorbar": {
              "outlinewidth": 0,
              "ticks": ""
             }
            },
            "marker": {
             "colorbar": {
              "outlinewidth": 0,
              "ticks": ""
             }
            },
            "type": "scatter3d"
           }
          ],
          "scattercarpet": [
           {
            "marker": {
             "colorbar": {
              "outlinewidth": 0,
              "ticks": ""
             }
            },
            "type": "scattercarpet"
           }
          ],
          "scattergeo": [
           {
            "marker": {
             "colorbar": {
              "outlinewidth": 0,
              "ticks": ""
             }
            },
            "type": "scattergeo"
           }
          ],
          "scattergl": [
           {
            "marker": {
             "colorbar": {
              "outlinewidth": 0,
              "ticks": ""
             }
            },
            "type": "scattergl"
           }
          ],
          "scattermapbox": [
           {
            "marker": {
             "colorbar": {
              "outlinewidth": 0,
              "ticks": ""
             }
            },
            "type": "scattermapbox"
           }
          ],
          "scatterpolar": [
           {
            "marker": {
             "colorbar": {
              "outlinewidth": 0,
              "ticks": ""
             }
            },
            "type": "scatterpolar"
           }
          ],
          "scatterpolargl": [
           {
            "marker": {
             "colorbar": {
              "outlinewidth": 0,
              "ticks": ""
             }
            },
            "type": "scatterpolargl"
           }
          ],
          "scatterternary": [
           {
            "marker": {
             "colorbar": {
              "outlinewidth": 0,
              "ticks": ""
             }
            },
            "type": "scatterternary"
           }
          ],
          "surface": [
           {
            "colorbar": {
             "outlinewidth": 0,
             "ticks": ""
            },
            "colorscale": [
             [
              0,
              "#0d0887"
             ],
             [
              0.1111111111111111,
              "#46039f"
             ],
             [
              0.2222222222222222,
              "#7201a8"
             ],
             [
              0.3333333333333333,
              "#9c179e"
             ],
             [
              0.4444444444444444,
              "#bd3786"
             ],
             [
              0.5555555555555556,
              "#d8576b"
             ],
             [
              0.6666666666666666,
              "#ed7953"
             ],
             [
              0.7777777777777778,
              "#fb9f3a"
             ],
             [
              0.8888888888888888,
              "#fdca26"
             ],
             [
              1,
              "#f0f921"
             ]
            ],
            "type": "surface"
           }
          ],
          "table": [
           {
            "cells": {
             "fill": {
              "color": "#EBF0F8"
             },
             "line": {
              "color": "white"
             }
            },
            "header": {
             "fill": {
              "color": "#C8D4E3"
             },
             "line": {
              "color": "white"
             }
            },
            "type": "table"
           }
          ]
         },
         "layout": {
          "annotationdefaults": {
           "arrowcolor": "#2a3f5f",
           "arrowhead": 0,
           "arrowwidth": 1
          },
          "autotypenumbers": "strict",
          "coloraxis": {
           "colorbar": {
            "outlinewidth": 0,
            "ticks": ""
           }
          },
          "colorscale": {
           "diverging": [
            [
             0,
             "#8e0152"
            ],
            [
             0.1,
             "#c51b7d"
            ],
            [
             0.2,
             "#de77ae"
            ],
            [
             0.3,
             "#f1b6da"
            ],
            [
             0.4,
             "#fde0ef"
            ],
            [
             0.5,
             "#f7f7f7"
            ],
            [
             0.6,
             "#e6f5d0"
            ],
            [
             0.7,
             "#b8e186"
            ],
            [
             0.8,
             "#7fbc41"
            ],
            [
             0.9,
             "#4d9221"
            ],
            [
             1,
             "#276419"
            ]
           ],
           "sequential": [
            [
             0,
             "#0d0887"
            ],
            [
             0.1111111111111111,
             "#46039f"
            ],
            [
             0.2222222222222222,
             "#7201a8"
            ],
            [
             0.3333333333333333,
             "#9c179e"
            ],
            [
             0.4444444444444444,
             "#bd3786"
            ],
            [
             0.5555555555555556,
             "#d8576b"
            ],
            [
             0.6666666666666666,
             "#ed7953"
            ],
            [
             0.7777777777777778,
             "#fb9f3a"
            ],
            [
             0.8888888888888888,
             "#fdca26"
            ],
            [
             1,
             "#f0f921"
            ]
           ],
           "sequentialminus": [
            [
             0,
             "#0d0887"
            ],
            [
             0.1111111111111111,
             "#46039f"
            ],
            [
             0.2222222222222222,
             "#7201a8"
            ],
            [
             0.3333333333333333,
             "#9c179e"
            ],
            [
             0.4444444444444444,
             "#bd3786"
            ],
            [
             0.5555555555555556,
             "#d8576b"
            ],
            [
             0.6666666666666666,
             "#ed7953"
            ],
            [
             0.7777777777777778,
             "#fb9f3a"
            ],
            [
             0.8888888888888888,
             "#fdca26"
            ],
            [
             1,
             "#f0f921"
            ]
           ]
          },
          "colorway": [
           "#636efa",
           "#EF553B",
           "#00cc96",
           "#ab63fa",
           "#FFA15A",
           "#19d3f3",
           "#FF6692",
           "#B6E880",
           "#FF97FF",
           "#FECB52"
          ],
          "font": {
           "color": "#2a3f5f"
          },
          "geo": {
           "bgcolor": "white",
           "lakecolor": "white",
           "landcolor": "#E5ECF6",
           "showlakes": true,
           "showland": true,
           "subunitcolor": "white"
          },
          "hoverlabel": {
           "align": "left"
          },
          "hovermode": "closest",
          "mapbox": {
           "style": "light"
          },
          "paper_bgcolor": "white",
          "plot_bgcolor": "#E5ECF6",
          "polar": {
           "angularaxis": {
            "gridcolor": "white",
            "linecolor": "white",
            "ticks": ""
           },
           "bgcolor": "#E5ECF6",
           "radialaxis": {
            "gridcolor": "white",
            "linecolor": "white",
            "ticks": ""
           }
          },
          "scene": {
           "xaxis": {
            "backgroundcolor": "#E5ECF6",
            "gridcolor": "white",
            "gridwidth": 2,
            "linecolor": "white",
            "showbackground": true,
            "ticks": "",
            "zerolinecolor": "white"
           },
           "yaxis": {
            "backgroundcolor": "#E5ECF6",
            "gridcolor": "white",
            "gridwidth": 2,
            "linecolor": "white",
            "showbackground": true,
            "ticks": "",
            "zerolinecolor": "white"
           },
           "zaxis": {
            "backgroundcolor": "#E5ECF6",
            "gridcolor": "white",
            "gridwidth": 2,
            "linecolor": "white",
            "showbackground": true,
            "ticks": "",
            "zerolinecolor": "white"
           }
          },
          "shapedefaults": {
           "line": {
            "color": "#2a3f5f"
           }
          },
          "ternary": {
           "aaxis": {
            "gridcolor": "white",
            "linecolor": "white",
            "ticks": ""
           },
           "baxis": {
            "gridcolor": "white",
            "linecolor": "white",
            "ticks": ""
           },
           "bgcolor": "#E5ECF6",
           "caxis": {
            "gridcolor": "white",
            "linecolor": "white",
            "ticks": ""
           }
          },
          "title": {
           "x": 0.05
          },
          "xaxis": {
           "automargin": true,
           "gridcolor": "white",
           "linecolor": "white",
           "ticks": "",
           "title": {
            "standoff": 15
           },
           "zerolinecolor": "white",
           "zerolinewidth": 2
          },
          "yaxis": {
           "automargin": true,
           "gridcolor": "white",
           "linecolor": "white",
           "ticks": "",
           "title": {
            "standoff": 15
           },
           "zerolinecolor": "white",
           "zerolinewidth": 2
          }
         }
        },
        "title": {
         "text": "Fraction of Model A Wins for All Non-tied A vs. B Battles",
         "x": 0.5,
         "y": 0.07
        },
        "width": 600,
        "xaxis": {
         "anchor": "y",
         "constrain": "domain",
         "domain": [
          0,
          1
         ],
         "scaleanchor": "y",
         "side": "top",
         "title": {
          "text": " Model B: Loser"
         }
        },
        "yaxis": {
         "anchor": "x",
         "autorange": "reversed",
         "constrain": "domain",
         "domain": [
          0,
          1
         ],
         "title": {
          "text": "Model A: Winner"
         }
        }
       }
      }
     },
     "metadata": {},
     "output_type": "display_data"
    }
   ],
   "source": [
    "def compute_pairwise_win_fraction(battles):\n",
    "    # Times each model wins as Model A\n",
    "    a_win_ptbl = pd.pivot_table(\n",
    "        battles[battles['winner'] == \"model_a\"],\n",
    "        index=\"model_a\", columns=\"model_b\", aggfunc=\"size\", fill_value=0)\n",
    "\n",
    "    # Table counting times each model wins as Model B\n",
    "    b_win_ptbl = pd.pivot_table(\n",
    "        battles[battles['winner'] == \"model_b\"],\n",
    "        index=\"model_a\", columns=\"model_b\", aggfunc=\"size\", fill_value=0)\n",
    "\n",
    "    # Table counting number of A-B pairs\n",
    "    num_battles_ptbl = pd.pivot_table(battles,\n",
    "        index=\"model_a\", columns=\"model_b\", aggfunc=\"size\", fill_value=0)\n",
    "\n",
    "    # Computing the proportion of wins for each model as A and as B\n",
    "    # against all other models\n",
    "    row_beats_col_freq = (\n",
    "        (a_win_ptbl + b_win_ptbl.T) /\n",
    "        (num_battles_ptbl + num_battles_ptbl.T)\n",
    "    )\n",
    "\n",
    "    # Arrange ordering according to proprition of wins\n",
    "    prop_wins = row_beats_col_freq.mean(axis=1).sort_values(ascending=False)\n",
    "    model_names = list(prop_wins.keys())\n",
    "    row_beats_col = row_beats_col_freq.loc[model_names, model_names]\n",
    "    return row_beats_col\n",
    "\n",
    "def visualize_pairwise_win_fraction(battles, title):\n",
    "    row_beats_col = compute_pairwise_win_fraction(battles)\n",
    "    fig = px.imshow(row_beats_col, color_continuous_scale='RdBu',\n",
    "                    text_auto=\".2f\", title=title)\n",
    "    fig.update_layout(xaxis_title=\" Model B: Loser\",\n",
    "                  yaxis_title=\"Model A: Winner\",\n",
    "                  xaxis_side=\"top\", height=600, width=600,\n",
    "                  title_y=0.07, title_x=0.5)\n",
    "    fig.update_traces(hovertemplate=\n",
    "                  \"Model A: %{y}<br>Model B: %{x}<br>Fraction of A Wins: %{z}<extra></extra>\")\n",
    "\n",
    "    return fig\n",
    "fig = visualize_pairwise_win_fraction(no_ties(train_df),\n",
    "      title = \"Fraction of Model A Wins for All Non-tied A vs. B Battles\")\n",
    "fig"
   ]
  },
  {
   "cell_type": "code",
   "execution_count": 14,
   "metadata": {},
   "outputs": [
    {
     "data": {
      "application/vnd.plotly.v1+json": {
       "config": {
        "plotlyServerURL": "https://plot.ly"
       },
       "data": [
        {
         "alignmentgroup": "True",
         "hovertemplate": "variable=0<br>model_a=%{x}<br>value=%{y}<extra></extra>",
         "legendgroup": "0",
         "marker": {
          "color": "#636efa",
          "pattern": {
           "shape": ""
          }
         },
         "name": "0",
         "offsetgroup": "0",
         "orientation": "v",
         "showlegend": true,
         "textposition": "auto",
         "texttemplate": "%{y:.2f}",
         "type": "bar",
         "x": [
          "gpt-4",
          "claude-v1",
          "gpt-3.5-turbo",
          "palm-2",
          "vicuna-13b",
          "koala-13b",
          "alpaca-13b",
          "llama-13b"
         ],
         "xaxis": "x",
         "y": [
          0.8280408303500295,
          0.7421423045815713,
          0.6164215364105161,
          0.5584881660927679,
          0.4881266043488039,
          0.40366360740823,
          0.2616022355861667,
          0.10151471522191444
         ],
         "yaxis": "y"
        }
       ],
       "layout": {
        "barmode": "relative",
        "legend": {
         "title": {
          "text": "variable"
         },
         "tracegroupgap": 0
        },
        "showlegend": false,
        "template": {
         "data": {
          "bar": [
           {
            "error_x": {
             "color": "#2a3f5f"
            },
            "error_y": {
             "color": "#2a3f5f"
            },
            "marker": {
             "line": {
              "color": "#E5ECF6",
              "width": 0.5
             },
             "pattern": {
              "fillmode": "overlay",
              "size": 10,
              "solidity": 0.2
             }
            },
            "type": "bar"
           }
          ],
          "barpolar": [
           {
            "marker": {
             "line": {
              "color": "#E5ECF6",
              "width": 0.5
             },
             "pattern": {
              "fillmode": "overlay",
              "size": 10,
              "solidity": 0.2
             }
            },
            "type": "barpolar"
           }
          ],
          "carpet": [
           {
            "aaxis": {
             "endlinecolor": "#2a3f5f",
             "gridcolor": "white",
             "linecolor": "white",
             "minorgridcolor": "white",
             "startlinecolor": "#2a3f5f"
            },
            "baxis": {
             "endlinecolor": "#2a3f5f",
             "gridcolor": "white",
             "linecolor": "white",
             "minorgridcolor": "white",
             "startlinecolor": "#2a3f5f"
            },
            "type": "carpet"
           }
          ],
          "choropleth": [
           {
            "colorbar": {
             "outlinewidth": 0,
             "ticks": ""
            },
            "type": "choropleth"
           }
          ],
          "contour": [
           {
            "colorbar": {
             "outlinewidth": 0,
             "ticks": ""
            },
            "colorscale": [
             [
              0,
              "#0d0887"
             ],
             [
              0.1111111111111111,
              "#46039f"
             ],
             [
              0.2222222222222222,
              "#7201a8"
             ],
             [
              0.3333333333333333,
              "#9c179e"
             ],
             [
              0.4444444444444444,
              "#bd3786"
             ],
             [
              0.5555555555555556,
              "#d8576b"
             ],
             [
              0.6666666666666666,
              "#ed7953"
             ],
             [
              0.7777777777777778,
              "#fb9f3a"
             ],
             [
              0.8888888888888888,
              "#fdca26"
             ],
             [
              1,
              "#f0f921"
             ]
            ],
            "type": "contour"
           }
          ],
          "contourcarpet": [
           {
            "colorbar": {
             "outlinewidth": 0,
             "ticks": ""
            },
            "type": "contourcarpet"
           }
          ],
          "heatmap": [
           {
            "colorbar": {
             "outlinewidth": 0,
             "ticks": ""
            },
            "colorscale": [
             [
              0,
              "#0d0887"
             ],
             [
              0.1111111111111111,
              "#46039f"
             ],
             [
              0.2222222222222222,
              "#7201a8"
             ],
             [
              0.3333333333333333,
              "#9c179e"
             ],
             [
              0.4444444444444444,
              "#bd3786"
             ],
             [
              0.5555555555555556,
              "#d8576b"
             ],
             [
              0.6666666666666666,
              "#ed7953"
             ],
             [
              0.7777777777777778,
              "#fb9f3a"
             ],
             [
              0.8888888888888888,
              "#fdca26"
             ],
             [
              1,
              "#f0f921"
             ]
            ],
            "type": "heatmap"
           }
          ],
          "heatmapgl": [
           {
            "colorbar": {
             "outlinewidth": 0,
             "ticks": ""
            },
            "colorscale": [
             [
              0,
              "#0d0887"
             ],
             [
              0.1111111111111111,
              "#46039f"
             ],
             [
              0.2222222222222222,
              "#7201a8"
             ],
             [
              0.3333333333333333,
              "#9c179e"
             ],
             [
              0.4444444444444444,
              "#bd3786"
             ],
             [
              0.5555555555555556,
              "#d8576b"
             ],
             [
              0.6666666666666666,
              "#ed7953"
             ],
             [
              0.7777777777777778,
              "#fb9f3a"
             ],
             [
              0.8888888888888888,
              "#fdca26"
             ],
             [
              1,
              "#f0f921"
             ]
            ],
            "type": "heatmapgl"
           }
          ],
          "histogram": [
           {
            "marker": {
             "pattern": {
              "fillmode": "overlay",
              "size": 10,
              "solidity": 0.2
             }
            },
            "type": "histogram"
           }
          ],
          "histogram2d": [
           {
            "colorbar": {
             "outlinewidth": 0,
             "ticks": ""
            },
            "colorscale": [
             [
              0,
              "#0d0887"
             ],
             [
              0.1111111111111111,
              "#46039f"
             ],
             [
              0.2222222222222222,
              "#7201a8"
             ],
             [
              0.3333333333333333,
              "#9c179e"
             ],
             [
              0.4444444444444444,
              "#bd3786"
             ],
             [
              0.5555555555555556,
              "#d8576b"
             ],
             [
              0.6666666666666666,
              "#ed7953"
             ],
             [
              0.7777777777777778,
              "#fb9f3a"
             ],
             [
              0.8888888888888888,
              "#fdca26"
             ],
             [
              1,
              "#f0f921"
             ]
            ],
            "type": "histogram2d"
           }
          ],
          "histogram2dcontour": [
           {
            "colorbar": {
             "outlinewidth": 0,
             "ticks": ""
            },
            "colorscale": [
             [
              0,
              "#0d0887"
             ],
             [
              0.1111111111111111,
              "#46039f"
             ],
             [
              0.2222222222222222,
              "#7201a8"
             ],
             [
              0.3333333333333333,
              "#9c179e"
             ],
             [
              0.4444444444444444,
              "#bd3786"
             ],
             [
              0.5555555555555556,
              "#d8576b"
             ],
             [
              0.6666666666666666,
              "#ed7953"
             ],
             [
              0.7777777777777778,
              "#fb9f3a"
             ],
             [
              0.8888888888888888,
              "#fdca26"
             ],
             [
              1,
              "#f0f921"
             ]
            ],
            "type": "histogram2dcontour"
           }
          ],
          "mesh3d": [
           {
            "colorbar": {
             "outlinewidth": 0,
             "ticks": ""
            },
            "type": "mesh3d"
           }
          ],
          "parcoords": [
           {
            "line": {
             "colorbar": {
              "outlinewidth": 0,
              "ticks": ""
             }
            },
            "type": "parcoords"
           }
          ],
          "pie": [
           {
            "automargin": true,
            "type": "pie"
           }
          ],
          "scatter": [
           {
            "fillpattern": {
             "fillmode": "overlay",
             "size": 10,
             "solidity": 0.2
            },
            "type": "scatter"
           }
          ],
          "scatter3d": [
           {
            "line": {
             "colorbar": {
              "outlinewidth": 0,
              "ticks": ""
             }
            },
            "marker": {
             "colorbar": {
              "outlinewidth": 0,
              "ticks": ""
             }
            },
            "type": "scatter3d"
           }
          ],
          "scattercarpet": [
           {
            "marker": {
             "colorbar": {
              "outlinewidth": 0,
              "ticks": ""
             }
            },
            "type": "scattercarpet"
           }
          ],
          "scattergeo": [
           {
            "marker": {
             "colorbar": {
              "outlinewidth": 0,
              "ticks": ""
             }
            },
            "type": "scattergeo"
           }
          ],
          "scattergl": [
           {
            "marker": {
             "colorbar": {
              "outlinewidth": 0,
              "ticks": ""
             }
            },
            "type": "scattergl"
           }
          ],
          "scattermapbox": [
           {
            "marker": {
             "colorbar": {
              "outlinewidth": 0,
              "ticks": ""
             }
            },
            "type": "scattermapbox"
           }
          ],
          "scatterpolar": [
           {
            "marker": {
             "colorbar": {
              "outlinewidth": 0,
              "ticks": ""
             }
            },
            "type": "scatterpolar"
           }
          ],
          "scatterpolargl": [
           {
            "marker": {
             "colorbar": {
              "outlinewidth": 0,
              "ticks": ""
             }
            },
            "type": "scatterpolargl"
           }
          ],
          "scatterternary": [
           {
            "marker": {
             "colorbar": {
              "outlinewidth": 0,
              "ticks": ""
             }
            },
            "type": "scatterternary"
           }
          ],
          "surface": [
           {
            "colorbar": {
             "outlinewidth": 0,
             "ticks": ""
            },
            "colorscale": [
             [
              0,
              "#0d0887"
             ],
             [
              0.1111111111111111,
              "#46039f"
             ],
             [
              0.2222222222222222,
              "#7201a8"
             ],
             [
              0.3333333333333333,
              "#9c179e"
             ],
             [
              0.4444444444444444,
              "#bd3786"
             ],
             [
              0.5555555555555556,
              "#d8576b"
             ],
             [
              0.6666666666666666,
              "#ed7953"
             ],
             [
              0.7777777777777778,
              "#fb9f3a"
             ],
             [
              0.8888888888888888,
              "#fdca26"
             ],
             [
              1,
              "#f0f921"
             ]
            ],
            "type": "surface"
           }
          ],
          "table": [
           {
            "cells": {
             "fill": {
              "color": "#EBF0F8"
             },
             "line": {
              "color": "white"
             }
            },
            "header": {
             "fill": {
              "color": "#C8D4E3"
             },
             "line": {
              "color": "white"
             }
            },
            "type": "table"
           }
          ]
         },
         "layout": {
          "annotationdefaults": {
           "arrowcolor": "#2a3f5f",
           "arrowhead": 0,
           "arrowwidth": 1
          },
          "autotypenumbers": "strict",
          "coloraxis": {
           "colorbar": {
            "outlinewidth": 0,
            "ticks": ""
           }
          },
          "colorscale": {
           "diverging": [
            [
             0,
             "#8e0152"
            ],
            [
             0.1,
             "#c51b7d"
            ],
            [
             0.2,
             "#de77ae"
            ],
            [
             0.3,
             "#f1b6da"
            ],
            [
             0.4,
             "#fde0ef"
            ],
            [
             0.5,
             "#f7f7f7"
            ],
            [
             0.6,
             "#e6f5d0"
            ],
            [
             0.7,
             "#b8e186"
            ],
            [
             0.8,
             "#7fbc41"
            ],
            [
             0.9,
             "#4d9221"
            ],
            [
             1,
             "#276419"
            ]
           ],
           "sequential": [
            [
             0,
             "#0d0887"
            ],
            [
             0.1111111111111111,
             "#46039f"
            ],
            [
             0.2222222222222222,
             "#7201a8"
            ],
            [
             0.3333333333333333,
             "#9c179e"
            ],
            [
             0.4444444444444444,
             "#bd3786"
            ],
            [
             0.5555555555555556,
             "#d8576b"
            ],
            [
             0.6666666666666666,
             "#ed7953"
            ],
            [
             0.7777777777777778,
             "#fb9f3a"
            ],
            [
             0.8888888888888888,
             "#fdca26"
            ],
            [
             1,
             "#f0f921"
            ]
           ],
           "sequentialminus": [
            [
             0,
             "#0d0887"
            ],
            [
             0.1111111111111111,
             "#46039f"
            ],
            [
             0.2222222222222222,
             "#7201a8"
            ],
            [
             0.3333333333333333,
             "#9c179e"
            ],
            [
             0.4444444444444444,
             "#bd3786"
            ],
            [
             0.5555555555555556,
             "#d8576b"
            ],
            [
             0.6666666666666666,
             "#ed7953"
            ],
            [
             0.7777777777777778,
             "#fb9f3a"
            ],
            [
             0.8888888888888888,
             "#fdca26"
            ],
            [
             1,
             "#f0f921"
            ]
           ]
          },
          "colorway": [
           "#636efa",
           "#EF553B",
           "#00cc96",
           "#ab63fa",
           "#FFA15A",
           "#19d3f3",
           "#FF6692",
           "#B6E880",
           "#FF97FF",
           "#FECB52"
          ],
          "font": {
           "color": "#2a3f5f"
          },
          "geo": {
           "bgcolor": "white",
           "lakecolor": "white",
           "landcolor": "#E5ECF6",
           "showlakes": true,
           "showland": true,
           "subunitcolor": "white"
          },
          "hoverlabel": {
           "align": "left"
          },
          "hovermode": "closest",
          "mapbox": {
           "style": "light"
          },
          "paper_bgcolor": "white",
          "plot_bgcolor": "#E5ECF6",
          "polar": {
           "angularaxis": {
            "gridcolor": "white",
            "linecolor": "white",
            "ticks": ""
           },
           "bgcolor": "#E5ECF6",
           "radialaxis": {
            "gridcolor": "white",
            "linecolor": "white",
            "ticks": ""
           }
          },
          "scene": {
           "xaxis": {
            "backgroundcolor": "#E5ECF6",
            "gridcolor": "white",
            "gridwidth": 2,
            "linecolor": "white",
            "showbackground": true,
            "ticks": "",
            "zerolinecolor": "white"
           },
           "yaxis": {
            "backgroundcolor": "#E5ECF6",
            "gridcolor": "white",
            "gridwidth": 2,
            "linecolor": "white",
            "showbackground": true,
            "ticks": "",
            "zerolinecolor": "white"
           },
           "zaxis": {
            "backgroundcolor": "#E5ECF6",
            "gridcolor": "white",
            "gridwidth": 2,
            "linecolor": "white",
            "showbackground": true,
            "ticks": "",
            "zerolinecolor": "white"
           }
          },
          "shapedefaults": {
           "line": {
            "color": "#2a3f5f"
           }
          },
          "ternary": {
           "aaxis": {
            "gridcolor": "white",
            "linecolor": "white",
            "ticks": ""
           },
           "baxis": {
            "gridcolor": "white",
            "linecolor": "white",
            "ticks": ""
           },
           "bgcolor": "#E5ECF6",
           "caxis": {
            "gridcolor": "white",
            "linecolor": "white",
            "ticks": ""
           }
          },
          "title": {
           "x": 0.05
          },
          "xaxis": {
           "automargin": true,
           "gridcolor": "white",
           "linecolor": "white",
           "ticks": "",
           "title": {
            "standoff": 15
           },
           "zerolinecolor": "white",
           "zerolinewidth": 2
          },
          "yaxis": {
           "automargin": true,
           "gridcolor": "white",
           "linecolor": "white",
           "ticks": "",
           "title": {
            "standoff": 15
           },
           "zerolinecolor": "white",
           "zerolinewidth": 2
          }
         }
        },
        "title": {
         "text": "Average Win Rate Against All Other Models (Assuming Uniform Sampling and No Ties)"
        },
        "xaxis": {
         "anchor": "y",
         "domain": [
          0,
          1
         ],
         "title": {
          "text": "Model"
         }
        },
        "yaxis": {
         "anchor": "x",
         "domain": [
          0,
          1
         ],
         "title": {
          "text": "Average Win Rate"
         }
        }
       }
      }
     },
     "metadata": {},
     "output_type": "display_data"
    }
   ],
   "source": [
    "row_beats_col_freq = compute_pairwise_win_fraction(no_ties(train_df))\n",
    "fig = px.bar(row_beats_col_freq.mean(axis=1).sort_values(ascending=False),\n",
    "             title=\"Average Win Rate Against All Other Models (Assuming Uniform Sampling and No Ties)\",\n",
    "             text_auto=\".2f\")\n",
    "fig.update_layout(yaxis_title=\"Average Win Rate\", xaxis_title=\"Model\",\n",
    "                  showlegend=False)\n",
    "naive_model_ratings = dict(row_beats_col_freq.mean(axis=1).sort_values(ascending=False))\n",
    "fig\n"
   ]
  },
  {
   "cell_type": "code",
   "execution_count": 15,
   "metadata": {},
   "outputs": [
    {
     "data": {
      "text/html": [
       "<div>\n",
       "<style scoped>\n",
       "    .dataframe tbody tr th:only-of-type {\n",
       "        vertical-align: middle;\n",
       "    }\n",
       "\n",
       "    .dataframe tbody tr th {\n",
       "        vertical-align: top;\n",
       "    }\n",
       "\n",
       "    .dataframe thead th {\n",
       "        text-align: right;\n",
       "    }\n",
       "</style>\n",
       "<table border=\"1\" class=\"dataframe\">\n",
       "  <thead>\n",
       "    <tr style=\"text-align: right;\">\n",
       "      <th></th>\n",
       "      <th>Model</th>\n",
       "      <th>Elo rating</th>\n",
       "    </tr>\n",
       "  </thead>\n",
       "  <tbody>\n",
       "    <tr>\n",
       "      <th>1</th>\n",
       "      <td>gpt-4</td>\n",
       "      <td>1181</td>\n",
       "    </tr>\n",
       "    <tr>\n",
       "      <th>2</th>\n",
       "      <td>claude-v1</td>\n",
       "      <td>1149</td>\n",
       "    </tr>\n",
       "    <tr>\n",
       "      <th>3</th>\n",
       "      <td>gpt-3.5-turbo</td>\n",
       "      <td>1078</td>\n",
       "    </tr>\n",
       "    <tr>\n",
       "      <th>4</th>\n",
       "      <td>palm-2</td>\n",
       "      <td>1009</td>\n",
       "    </tr>\n",
       "    <tr>\n",
       "      <th>5</th>\n",
       "      <td>vicuna-13b</td>\n",
       "      <td>1003</td>\n",
       "    </tr>\n",
       "    <tr>\n",
       "      <th>6</th>\n",
       "      <td>koala-13b</td>\n",
       "      <td>991</td>\n",
       "    </tr>\n",
       "    <tr>\n",
       "      <th>7</th>\n",
       "      <td>alpaca-13b</td>\n",
       "      <td>858</td>\n",
       "    </tr>\n",
       "    <tr>\n",
       "      <th>8</th>\n",
       "      <td>llama-13b</td>\n",
       "      <td>731</td>\n",
       "    </tr>\n",
       "  </tbody>\n",
       "</table>\n",
       "</div>"
      ],
      "text/plain": [
       "           Model  Elo rating\n",
       "1          gpt-4        1181\n",
       "2      claude-v1        1149\n",
       "3  gpt-3.5-turbo        1078\n",
       "4         palm-2        1009\n",
       "5     vicuna-13b        1003\n",
       "6      koala-13b         991\n",
       "7     alpaca-13b         858\n",
       "8      llama-13b         731"
      ]
     },
     "execution_count": 15,
     "metadata": {},
     "output_type": "execute_result"
    }
   ],
   "source": [
    "def compute_elo(battles, K=4, SCALE=400, BASE=10, INIT_RATING=1000):\n",
    "    rating = defaultdict(lambda: INIT_RATING)\n",
    "\n",
    "    for rd, model_a, model_b, winner in battles[['model_a', 'model_b', 'winner']].itertuples():\n",
    "        ra = rating[model_a]\n",
    "        rb = rating[model_b]\n",
    "        ea = 1 / (1 + BASE ** ((rb - ra) / SCALE))\n",
    "        eb = 1 / (1 + BASE ** ((ra - rb) / SCALE))\n",
    "        if winner == \"model_a\":\n",
    "            sa = 1\n",
    "        elif winner == \"model_b\":\n",
    "            sa = 0\n",
    "        elif winner == \"tie\" or winner == \"tie (bothbad)\":\n",
    "            sa = 0.5\n",
    "        else:\n",
    "            raise Exception(f\"unexpected vote {winner}\")\n",
    "        rating[model_a] += K * (sa - ea)\n",
    "        rating[model_b] += K * (1 - sa - eb)\n",
    "\n",
    "    return rating\n",
    "\n",
    "def pretty_print_elo_ratings(ratings):\n",
    "    df = pd.DataFrame([\n",
    "        [n, ratings[n]] for n in ratings.keys()\n",
    "    ], columns=[\"Model\", \"Elo rating\"]).sort_values(\"Elo rating\", ascending=False).reset_index(drop=True)\n",
    "    df[\"Elo rating\"] = (df[\"Elo rating\"] + 0.5).astype(int)\n",
    "    df.index = df.index + 1\n",
    "    return df\n",
    "\n",
    "elo_model_ratings = compute_elo(train_df)\n",
    "pretty_print_elo_ratings(elo_model_ratings)"
   ]
  },
  {
   "cell_type": "code",
   "execution_count": 16,
   "metadata": {},
   "outputs": [
    {
     "data": {
      "text/plain": [
       "(True, True)"
      ]
     },
     "execution_count": 16,
     "metadata": {},
     "output_type": "execute_result"
    }
   ],
   "source": [
    "set([model[\"name\"] for model in models]) == set(naive_model_ratings.keys()), set([model[\"name\"] for model in models]) == set(elo_model_ratings.keys())"
   ]
  },
  {
   "cell_type": "code",
   "execution_count": 17,
   "metadata": {},
   "outputs": [],
   "source": [
    "class RatingsArenaRouter(NamedRouter):\n",
    "    def __init__(self, *args, model_ratings: dict, **kwargs):\n",
    "        super().__init__(*args, **kwargs)\n",
    "        self.model_ratings = model_ratings\n",
    "\n",
    "    def route(self, model_a, model_b, conversation_a, conversation_b):\n",
    "        if self.model_ratings[model_a] > self.model_ratings[model_b]:\n",
    "            winner = \"model_a\"\n",
    "        else:\n",
    "            winner = \"model_b\"\n",
    "\n",
    "        model_name, messages = {\n",
    "            'model_a': (model_a, conversation_a),\n",
    "            'model_b': (model_b, conversation_b),\n",
    "        }[winner]\n",
    "\n",
    "        return self.models[model_name], \\\n",
    "            {\n",
    "                \"winner\": winner, \n",
    "                \"scores\": [{\"name\": name, \"score\": self.model_ratings[name]} for name in [model_a, model_b]], \n",
    "                \"exec_kwargs\": {\"messages\": messages}\n",
    "            }\n"
   ]
  },
  {
   "cell_type": "code",
   "execution_count": 18,
   "metadata": {},
   "outputs": [
    {
     "data": {
      "text/plain": [
       "('RatingsArenaRouter([gpt-4, gpt-3.5-turbo, claude-v1, palm-2, vicuna-13b, koala-13b, llama-13b, alpaca-13b])',\n",
       " 'RatingsArenaRouter([gpt-4, gpt-3.5-turbo, claude-v1, palm-2, vicuna-13b, koala-13b, llama-13b, alpaca-13b])')"
      ]
     },
     "execution_count": 18,
     "metadata": {},
     "output_type": "execute_result"
    }
   ],
   "source": [
    "naive_ratings_router = RatingsArenaRouter(models, model_ratings=naive_model_ratings)\n",
    "elo_ratings_router = RatingsArenaRouter(models, model_ratings=elo_model_ratings)\n",
    "str(naive_ratings_router), str(elo_ratings_router)"
   ]
  },
  {
   "cell_type": "code",
   "execution_count": 19,
   "metadata": {},
   "outputs": [
    {
     "name": "stderr",
     "output_type": "stream",
     "text": [
      "100%|██████████| 119/119 [00:00<00:00, 2472.00it/s]\n"
     ]
    },
    {
     "data": {
      "text/plain": [
       "'Naive Ranking Router Accuracy: 0.7143'"
      ]
     },
     "execution_count": 19,
     "metadata": {},
     "output_type": "execute_result"
    }
   ],
   "source": [
    "score = router_score(test_df, naive_ratings_router, [\"model_a\", \"model_b\", \"conversation_a\", \"conversation_b\"], verbose=True)\n",
    "f\"Naive Ranking Router Accuracy: {score:.4f}\""
   ]
  },
  {
   "cell_type": "code",
   "execution_count": 20,
   "metadata": {},
   "outputs": [
    {
     "name": "stderr",
     "output_type": "stream",
     "text": [
      "100%|██████████| 119/119 [00:00<00:00, 2303.17it/s]\n"
     ]
    },
    {
     "data": {
      "text/plain": [
       "'Elo Ranking Router Accuracy: 0.7143'"
      ]
     },
     "execution_count": 20,
     "metadata": {},
     "output_type": "execute_result"
    }
   ],
   "source": [
    "score = router_score(test_df, elo_ratings_router, [\"model_a\", \"model_b\", \"conversation_a\", \"conversation_b\"], verbose=True)\n",
    "f\"Elo Ranking Router Accuracy: {score:.4f}\""
   ]
  },
  {
   "cell_type": "markdown",
   "metadata": {},
   "source": [
    "## Nearest Neighbor Arena Router"
   ]
  },
  {
   "cell_type": "code",
   "execution_count": 21,
   "metadata": {},
   "outputs": [
    {
     "data": {
      "text/plain": [
       "((2, 1536), array([0.99999994, 1.        ], dtype=float32))"
      ]
     },
     "execution_count": 21,
     "metadata": {},
     "output_type": "execute_result"
    }
   ],
   "source": [
    "def openai_embedder(inputs, model=\"text-embedding-ada-002\", api_key=os.environ[\"OPENAI_API_KEY\"], batch_size=2048, **kwargs):\n",
    "    client = OpenAI(\n",
    "        # This is the default and can be omitted\n",
    "        api_key=api_key,\n",
    "    )\n",
    "    embedding_list = []\n",
    "    for i in range(math.ceil(len(inputs)/batch_size)):\n",
    "        embedding_list.append([d.embedding for d in client.embeddings.create(input=inputs[i*batch_size:(i+1)*batch_size], model=model).data])\n",
    "    # convert df to list of strings assuming that df is just a series of Strings \n",
    "    return np.concatenate(embedding_list).astype(np.float32)\n",
    "\n",
    "test_embeddings = openai_embedder([\"Hello\", \"World\"])\n",
    "\n",
    "test_embeddings.shape, np.linalg.norm(test_embeddings, axis=1)"
   ]
  },
  {
   "cell_type": "code",
   "execution_count": 24,
   "metadata": {},
   "outputs": [
    {
     "data": {
      "text/plain": [
       "'NNArenaRouter([gpt-4, gpt-3.5-turbo, claude-v1, palm-2, vicuna-13b, koala-13b, llama-13b, alpaca-13b])'"
      ]
     },
     "execution_count": 24,
     "metadata": {},
     "output_type": "execute_result"
    }
   ],
   "source": [
    "class NNArenaRouter(NamedRouter):\n",
    "    def __init__(self, *args, embedder: Callable = openai_embedder, d: int = 1536, k: int = 15, **kwargs):\n",
    "        super().__init__(*args, **kwargs)\n",
    "        self.embedder = embedder\n",
    "        self.d = d\n",
    "        self.k = k\n",
    "        self.indices = {name: faiss.IndexFlatIP(d) for name in self.models}\n",
    "\n",
    "    def train(self, train_df, verbose: bool = True, **kwargs):\n",
    "        if not (train_df['conversation_a'].apply(get_input) == train_df['conversation_b'].apply(get_input)).all():\n",
    "            raise ValueError(\"All conversation inputs must be the same\")\n",
    "        train_df['input'] = train_df['conversation_a'].apply(get_input)\n",
    "        self.train_data = {name: pd.concat([train_df[train_df.model_a == name], train_df[train_df.model_b == name]]).reset_index(drop=True) for name in self.models}\n",
    "        data_iterator = tqdm(self.train_data.items(), desc=\"Creating indices\") if verbose else self.train_data.items()\n",
    "        for name, df in data_iterator:\n",
    "            vectors = self.embedder(df.input.values.tolist(), **kwargs)\n",
    "            self.indices[name].add(vectors)            \n",
    "    \n",
    "    def score_nn_df(self, model_name, nn_df):\n",
    "        def score_row(row):\n",
    "            if (row.winner.startswith(\"tie\")):\n",
    "                return 0\n",
    "            if (row.model_a == model_name) and (row.winner == \"model_a\"):\n",
    "                return 1\n",
    "            elif (row.model_b == model_name) and (row.winner == \"model_b\"):\n",
    "                return 1\n",
    "            else:\n",
    "                return -1\n",
    "        return nn_df.apply(score_row, axis=1).sum()\n",
    "\n",
    "    def route(self, model_a, model_b, conversation_a, conversation_b, **kwargs):\n",
    "        input = get_input(conversation_a)\n",
    "        if not (input == get_input(conversation_b)):\n",
    "            raise ValueError(\"Conversation inputs must be the same\")\n",
    "        input_embedding = self.embedder([input], **kwargs)\n",
    "        _, nn_a_indices = self.indices[model_a].search(input_embedding, self.k)\n",
    "        _, nn_b_indices = self.indices[model_b].search(input_embedding, self.k)\n",
    "\n",
    "        nn_a_df = self.train_data[model_a].iloc[nn_a_indices[0]]\n",
    "        nn_b_df = self.train_data[model_b].iloc[nn_b_indices[0]]\n",
    "\n",
    "        model_a_score = self.score_nn_df(model_a, nn_a_df)\n",
    "        model_b_score = self.score_nn_df(model_b, nn_b_df)\n",
    "    \n",
    "        if model_a_score > model_b_score:\n",
    "            winner = \"model_a\"\n",
    "        else:\n",
    "            winner = \"model_b\"\n",
    "\n",
    "        model_name, messages = {\n",
    "            'model_a': (model_a, conversation_a),\n",
    "            'model_b': (model_b, conversation_b),\n",
    "        }[winner]\n",
    "\n",
    "        if model_a_score > model_b_score:\n",
    "            true_winner = \"model_a\"\n",
    "        elif model_a_score < model_b_score:\n",
    "            true_winner = \"model_b\"\n",
    "        elif model_a_score >= 0:\n",
    "            true_winner = \"tie (bothbad)\"\n",
    "        else:\n",
    "            true_winner = \"tie\"\n",
    "\n",
    "        return self.models[model_name], \\\n",
    "            {\n",
    "                \"winner\": true_winner, \n",
    "                \"scores\": [{\"name\": name, \"score\": score} for name, score in zip([model_a, model_b], [model_a_score, model_b_score])], \n",
    "                \"nn_indices\": [{\"name\": name, \"indices\": indices} for name, indices in zip([model_a, model_b], [nn_a_indices, nn_b_indices])],\n",
    "                \"exec_kwargs\": {\"messages\": messages}\n",
    "            }\n",
    "\n",
    "nn_router = NNArenaRouter(models)\n",
    "# nn_router.train(train_df)  # commented out to save time\n",
    "str(nn_router)"
   ]
  },
  {
   "cell_type": "code",
   "execution_count": 23,
   "metadata": {},
   "outputs": [
    {
     "data": {
      "text/plain": [
       "'NN Router Accuracy: 0.0000'"
      ]
     },
     "execution_count": 23,
     "metadata": {},
     "output_type": "execute_result"
    }
   ],
   "source": [
    "# score = router_score(test_df, nn_router, [\"model_a\", \"model_b\", \"conversation_a\", \"conversation_b\"], verbose=True)  # commented out to save time\n",
    "score = 0.0\n",
    "f\"NN Router Accuracy: {score:.4f}\""
   ]
  },
  {
   "cell_type": "code",
   "execution_count": 25,
   "metadata": {},
   "outputs": [
    {
     "data": {
      "text/plain": [
       "((2, 1536), array([1., 1.]))"
      ]
     },
     "execution_count": 25,
     "metadata": {},
     "output_type": "execute_result"
    }
   ],
   "source": [
    "def random_embedder(inputs, size=1536):\n",
    "    unnormalized = np.random.normal(size=(len(inputs), size))\n",
    "    return unnormalized / np.linalg.norm(unnormalized, axis=1, keepdims=True)\n",
    "\n",
    "\n",
    "test_embeddings = random_embedder([\"Hello\", \"World\"])\n",
    "\n",
    "test_embeddings.shape, np.linalg.norm(test_embeddings, axis=1)"
   ]
  },
  {
   "cell_type": "code",
   "execution_count": 26,
   "metadata": {},
   "outputs": [
    {
     "name": "stderr",
     "output_type": "stream",
     "text": [
      "Creating indices: 100%|██████████| 8/8 [00:00<00:00,  9.08it/s]\n"
     ]
    },
    {
     "data": {
      "text/plain": [
       "'NNArenaRouter([gpt-4, gpt-3.5-turbo, claude-v1, palm-2, vicuna-13b, koala-13b, llama-13b, alpaca-13b])'"
      ]
     },
     "execution_count": 26,
     "metadata": {},
     "output_type": "execute_result"
    }
   ],
   "source": [
    "random_nn_router = NNArenaRouter(models, embedder=random_embedder)\n",
    "random_nn_router.train(train_df)\n",
    "str(random_nn_router)"
   ]
  },
  {
   "cell_type": "code",
   "execution_count": 27,
   "metadata": {},
   "outputs": [
    {
     "name": "stderr",
     "output_type": "stream",
     "text": [
      "100%|██████████| 119/119 [00:00<00:00, 234.90it/s]\n"
     ]
    },
    {
     "data": {
      "text/plain": [
       "'Random NN Router (dim=1536) Accuracy: 0.6807'"
      ]
     },
     "execution_count": 27,
     "metadata": {},
     "output_type": "execute_result"
    }
   ],
   "source": [
    "score = router_score(test_df, random_nn_router, [\"model_a\", \"model_b\", \"conversation_a\", \"conversation_b\"], verbose=True)\n",
    "f\"Random NN Router (dim=1536) Accuracy: {score:.4f}\""
   ]
  },
  {
   "cell_type": "code",
   "execution_count": 28,
   "metadata": {},
   "outputs": [
    {
     "data": {
      "text/plain": [
       "((3, 2), array([1., 1., 1.]))"
      ]
     },
     "execution_count": 28,
     "metadata": {},
     "output_type": "execute_result"
    }
   ],
   "source": [
    "def length_embedder(inputs, max_words=500):\n",
    "    num_words = np.array([len(input.split()) for input in inputs])\n",
    "    num_words = np.clip(num_words, 1, max_words)\n",
    "    thetas = np.log10(num_words) / np.log10(max_words)\n",
    "    return np.stack([np.cos(thetas), np.sin(thetas)], axis=1)\n",
    "\n",
    "test_embeddings = length_embedder([\"Hello\", \"World\", \"How are you doing?\"])\n",
    "\n",
    "test_embeddings.shape, np.linalg.norm(test_embeddings, axis=1)\n"
   ]
  },
  {
   "cell_type": "code",
   "execution_count": 29,
   "metadata": {},
   "outputs": [
    {
     "name": "stderr",
     "output_type": "stream",
     "text": [
      "Creating indices: 100%|██████████| 8/8 [00:00<00:00, 170.79it/s]\n"
     ]
    },
    {
     "data": {
      "text/plain": [
       "'NNArenaRouter([gpt-4, gpt-3.5-turbo, claude-v1, palm-2, vicuna-13b, koala-13b, llama-13b, alpaca-13b])'"
      ]
     },
     "execution_count": 29,
     "metadata": {},
     "output_type": "execute_result"
    }
   ],
   "source": [
    "length_nn_router = NNArenaRouter(models, embedder=length_embedder, d=2)\n",
    "length_nn_router.train(train_df)\n",
    "str(length_nn_router)"
   ]
  },
  {
   "cell_type": "code",
   "execution_count": 30,
   "metadata": {},
   "outputs": [
    {
     "name": "stderr",
     "output_type": "stream",
     "text": [
      "100%|██████████| 119/119 [00:00<00:00, 410.95it/s]\n"
     ]
    },
    {
     "data": {
      "text/plain": [
       "'Length NN Router Accuracy: 0.6723'"
      ]
     },
     "execution_count": 30,
     "metadata": {},
     "output_type": "execute_result"
    }
   ],
   "source": [
    "score = router_score(test_df, length_nn_router, [\"model_a\", \"model_b\", \"conversation_a\", \"conversation_b\"], verbose=True)\n",
    "f\"Length NN Router Accuracy: {score:.4f}\""
   ]
  },
  {
   "cell_type": "code",
   "execution_count": 31,
   "metadata": {},
   "outputs": [
    {
     "name": "stderr",
     "output_type": "stream",
     "text": [
      "Creating indices: 100%|██████████| 8/8 [00:00<00:00, 2368.33it/s]\n"
     ]
    },
    {
     "data": {
      "text/plain": [
       "'NNArenaRouter([gpt-4, gpt-3.5-turbo, claude-v1, palm-2, vicuna-13b, koala-13b, llama-13b, alpaca-13b])'"
      ]
     },
     "execution_count": 31,
     "metadata": {},
     "output_type": "execute_result"
    }
   ],
   "source": [
    "random_nn_router = NNArenaRouter(models, embedder=lambda input: random_embedder(input, size=2), d=2)\n",
    "random_nn_router.train(train_df)\n",
    "str(random_nn_router)"
   ]
  },
  {
   "cell_type": "code",
   "execution_count": 32,
   "metadata": {},
   "outputs": [
    {
     "name": "stderr",
     "output_type": "stream",
     "text": [
      "100%|██████████| 119/119 [00:00<00:00, 323.02it/s]\n"
     ]
    },
    {
     "data": {
      "text/plain": [
       "'Random NN Router (dim=2) Accuracy: 0.6387'"
      ]
     },
     "execution_count": 32,
     "metadata": {},
     "output_type": "execute_result"
    }
   ],
   "source": [
    "score = router_score(test_df, random_nn_router, [\"model_a\", \"model_b\", \"conversation_a\", \"conversation_b\"], verbose=True)\n",
    "f\"Random NN Router (dim=2) Accuracy: {score:.4f}\""
   ]
  }
 ],
 "metadata": {
  "kernelspec": {
   "display_name": ".venv",
   "language": "python",
   "name": "python3"
  },
  "language_info": {
   "codemirror_mode": {
    "name": "ipython",
    "version": 3
   },
   "file_extension": ".py",
   "mimetype": "text/x-python",
   "name": "python",
   "nbconvert_exporter": "python",
   "pygments_lexer": "ipython3",
   "version": "3.11.6"
  }
 },
 "nbformat": 4,
 "nbformat_minor": 2
}
