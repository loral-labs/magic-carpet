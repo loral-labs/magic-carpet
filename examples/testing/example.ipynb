{
 "cells": [
  {
   "cell_type": "markdown",
   "metadata": {},
   "source": [
    "# Example Testing\n",
    "This notebook shows you how to use our util functions to make requests and create generations that you can send to our web service. "
   ]
  },
  {
   "cell_type": "code",
   "execution_count": null,
   "metadata": {},
   "outputs": [],
   "source": [
    "import json\n",
    "from magic_carpet import CarpetClient\n",
    "from magic_carpet.utils import make_requests, generate"
   ]
  },
  {
   "cell_type": "code",
   "execution_count": null,
   "metadata": {},
   "outputs": [],
   "source": [
    "return_a = lambda input: 'a'\n",
    "return_b = lambda input: 'b'\n",
    "return_c = lambda input: 'c'\n",
    "\n",
    "def eval_x(input, output):\n",
    "    return int(output == 'a')\n",
    "\n",
    "def eval_y(input, output):\n",
    "    return int(output == 'b')\n",
    "\n",
    "def eval_z(input, output):\n",
    "    if (input == 'd'):\n",
    "        return 1\n",
    "    return int(output == 'c')"
   ]
  },
  {
   "cell_type": "code",
   "execution_count": null,
   "metadata": {},
   "outputs": [],
   "source": [
    "request_tuples = [\n",
    "    (['d', 'e'], [return_a, return_b], [eval_x, eval_y, eval_z]),       # inputs, functions, evals\n",
    "    (['d', 'g'], [return_a, return_c], [eval_x, eval_z])\n",
    "]\n",
    "\n",
    "requests, model_container, eval_container = make_requests(request_tuples)"
   ]
  },
  {
   "cell_type": "code",
   "execution_count": null,
   "metadata": {},
   "outputs": [],
   "source": [
    "generations = generate(requests, model_container, eval_container)\n",
    "with open(\"./generations.json\", 'w') as f:\n",
    "    json.dump(generations, f)"
   ]
  },
  {
   "cell_type": "code",
   "execution_count": null,
   "metadata": {},
   "outputs": [],
   "source": [
    "client = CarpetClient(url=\"\", api_key=\"YOUR API KEY HERE\")\n",
    "response = client.load_generations(\"./generations.json\", \"TEST 1\")"
   ]
  }
 ],
 "metadata": {
  "language_info": {
   "name": "python"
  }
 },
 "nbformat": 4,
 "nbformat_minor": 2
}
